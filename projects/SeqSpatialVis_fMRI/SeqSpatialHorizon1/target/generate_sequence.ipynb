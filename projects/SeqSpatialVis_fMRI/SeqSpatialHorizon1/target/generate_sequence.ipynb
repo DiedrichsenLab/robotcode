{
 "cells": [
  {
   "cell_type": "code",
   "execution_count": 3,
   "metadata": {},
   "outputs": [
    {
     "ename": "ValueError",
     "evalue": "Sample larger than population or is negative",
     "output_type": "error",
     "traceback": [
      "\u001b[0;31m---------------------------------------------------------------------------\u001b[0m",
      "\u001b[0;31mValueError\u001b[0m                                Traceback (most recent call last)",
      "Cell \u001b[0;32mIn[3], line 6\u001b[0m\n\u001b[1;32m      3\u001b[0m \u001b[38;5;28;01mimport\u001b[39;00m \u001b[38;5;21;01mos\u001b[39;00m\n\u001b[1;32m      4\u001b[0m \u001b[38;5;28;01mimport\u001b[39;00m \u001b[38;5;21;01mshutil\u001b[39;00m\n\u001b[0;32m----> 6\u001b[0m \u001b[43mrandom\u001b[49m\u001b[38;5;241;43m.\u001b[39;49m\u001b[43msample\u001b[49m\u001b[43m(\u001b[49m\u001b[38;5;28;43mrange\u001b[39;49m\u001b[43m(\u001b[49m\u001b[38;5;241;43m1\u001b[39;49m\u001b[43m,\u001b[49m\u001b[38;5;241;43m9\u001b[39;49m\u001b[43m)\u001b[49m\u001b[43m,\u001b[49m\u001b[38;5;241;43m27\u001b[39;49m\u001b[43m)\u001b[49m\n",
      "File \u001b[0;32m~/anaconda3/envs/drone/lib/python3.8/random.py:363\u001b[0m, in \u001b[0;36mRandom.sample\u001b[0;34m(self, population, k)\u001b[0m\n\u001b[1;32m    361\u001b[0m n \u001b[38;5;241m=\u001b[39m \u001b[38;5;28mlen\u001b[39m(population)\n\u001b[1;32m    362\u001b[0m \u001b[38;5;28;01mif\u001b[39;00m \u001b[38;5;129;01mnot\u001b[39;00m \u001b[38;5;241m0\u001b[39m \u001b[38;5;241m<\u001b[39m\u001b[38;5;241m=\u001b[39m k \u001b[38;5;241m<\u001b[39m\u001b[38;5;241m=\u001b[39m n:\n\u001b[0;32m--> 363\u001b[0m     \u001b[38;5;28;01mraise\u001b[39;00m \u001b[38;5;167;01mValueError\u001b[39;00m(\u001b[38;5;124m\"\u001b[39m\u001b[38;5;124mSample larger than population or is negative\u001b[39m\u001b[38;5;124m\"\u001b[39m)\n\u001b[1;32m    364\u001b[0m result \u001b[38;5;241m=\u001b[39m [\u001b[38;5;28;01mNone\u001b[39;00m] \u001b[38;5;241m*\u001b[39m k\n\u001b[1;32m    365\u001b[0m setsize \u001b[38;5;241m=\u001b[39m \u001b[38;5;241m21\u001b[39m        \u001b[38;5;66;03m# size of a small set minus size of an empty list\u001b[39;00m\n",
      "\u001b[0;31mValueError\u001b[0m: Sample larger than population or is negative"
     ]
    }
   ],
   "source": [
    "import pandas as pd\n",
    "import random\n",
    "import os\n",
    "import shutil\n",
    "\n",
    "random.sample(range(1,9),27)"
   ]
  },
  {
   "cell_type": "code",
   "execution_count": 15,
   "metadata": {},
   "outputs": [
    {
     "name": "stdout",
     "output_type": "stream",
     "text": [
      "[2, 3, 5, 6, 4, 8, 1, 7, 6, 3, 7, 4, 1, 8, 5, 2, 5, 7, 8, 2, 3, 6, 4, 1, 7, 1, 5]\n"
     ]
    },
    {
     "data": {
      "text/plain": [
       "(array([4., 3., 3., 0., 3., 4., 0., 3., 4., 3.]),\n",
       " array([1. , 1.7, 2.4, 3.1, 3.8, 4.5, 5.2, 5.9, 6.6, 7.3, 8. ]),\n",
       " <BarContainer object of 10 artists>)"
      ]
     },
     "execution_count": 15,
     "metadata": {},
     "output_type": "execute_result"
    },
    {
     "data": {
      "image/png": "[encoded data removed]",
      "text/plain": [
       "<Figure size 640x480 with 1 Axes>"
      ]
     },
     "metadata": {},
     "output_type": "display_data"
    }
   ],
   "source": [
    "random_horizons = generate_random_numbers(8, 27)\n",
    "print(random_horizons)\n",
    "import matplotlib.pyplot as plt\n",
    "plt.hist(random_horizons)\n"
   ]
  },
  {
   "cell_type": "code",
   "execution_count": 8,
   "metadata": {},
   "outputs": [],
   "source": [
    "import pandas as pd\n",
    "import random\n",
    "import os\n",
    "import shutil\n",
    "\n",
    "\n",
    "import random\n",
    "\n",
    "def generate_random_numbers(num, numLen):\n",
    "    while True:\n",
    "        # Generate three sets of randomly permuted numbers from 1 to 5\n",
    "        if numLen==14:\n",
    "            set1 = random.sample(range(1, num+1), num)\n",
    "            set2 = random.sample(range(1, num+1), num)\n",
    "            set3 = random.sample(range(1, num+1), num)\n",
    "                    # Concatenate the three sets\n",
    "            concatenated_numbers = set1 + set2 + set3\n",
    "        else:\n",
    "            set1 = random.sample(range(1, num+1), num)\n",
    "            set2 = random.sample(range(1, num+1), num)\n",
    "            set3 = random.sample(range(1, num+1), num)\n",
    "            set4 = random.sample(range(1, num+1), num)\n",
    "            concatenated_numbers = set1 + set2 + set3 + set4\n",
    "\n",
    "\n",
    "\n",
    "        # Drop the last number to make it a 14-digit number\n",
    "        # Make sure that the length of sequence is numLen\n",
    "        concatenated_numbers = concatenated_numbers[:numLen]\n",
    "\n",
    "        # Check for consecutive identical numbers\n",
    "        consecutive_check = any(\n",
    "            abs(concatenated_numbers[i] - concatenated_numbers[i+1]) == 1 and\n",
    "            abs(concatenated_numbers[i+1] - concatenated_numbers[i+2]) == 1\n",
    "            for i in range(numLen-2)\n",
    "        )\n",
    "\n",
    "        # Check for repetitions of identical numbers\n",
    "        repetitive_check = any(\n",
    "            concatenated_numbers[i] == concatenated_numbers[i+1]\n",
    "            for i in range(numLen-1)\n",
    "        )\n",
    "\n",
    "        if not consecutive_check and not repetitive_check:\n",
    "            return concatenated_numbers"
   ]
  },
  {
   "cell_type": "code",
   "execution_count": 18,
   "metadata": {},
   "outputs": [],
   "source": [
    "def generate_tgt_file(seq_type, block):\n",
    "    # Set constant values\n",
    "    iti_value = 5000\n",
    "    stim_time_value = 15000\n",
    "    prep_time_value = 3000\n",
    "    feedback_value = 1\n",
    "\n",
    "    # Generate 27 trials\n",
    "    data = []\n",
    "    random_horizons = generate_random_numbers(8, 27)\n",
    "    for k in range(27):\n",
    "        random_numbers = generate_random_numbers(5, 14)\n",
    "\n",
    "        # Create a row of data\n",
    "        row = [seq_type, feedback_value] + random_numbers + [''.join(map(str, random_numbers)), iti_value, random_horizons[k], stim_time_value, prep_time_value]\n",
    "\n",
    "        # Append the row to the data list\n",
    "        data.append(row)\n",
    "\n",
    "    # Create a DataFrame using pandas\n",
    "    columns = [\"seqType\", \"feedback\"] + [f\"press{i}\" for i in range(1, 15)] + [\"cueP\", \"iti\", \"Horizon\", \"StimTime\", \"PrepTime\"]\n",
    "    df = pd.DataFrame(data, columns=columns)\n",
    "\n",
    "    # Save the DataFrame to a CSV file with .tgt extension\n",
    "    filename = f\"ssh_s{seq_type}_b{block}.tgt\"\n",
    "    df.to_csv(filename, sep='\\t',  index=False)\n",
    "\n",
    "\n",
    "#from google.colab import files\n",
    "\n",
    "# Specify the file path\n",
    "for seq_type in range(1,3):\n",
    "    for block in range(1, 41):\n",
    "        generate_tgt_file(seq_type, block)\n",
    "#            file_path =  f\"ssh_s{seq_type}_h{horizon}_b{block}.tgt\"\n",
    "        # Download the file\n",
    "#           files.download(file_path)"
   ]
  },
  {
   "cell_type": "code",
   "execution_count": null,
   "metadata": {},
   "outputs": [],
   "source": []
  }
 ],
 "metadata": {
  "kernelspec": {
   "display_name": "drone",
   "language": "python",
   "name": "drone"
  },
  "language_info": {
   "codemirror_mode": {
    "name": "ipython",
    "version": 3
   },
   "file_extension": ".py",
   "mimetype": "text/x-python",
   "name": "python",
   "nbconvert_exporter": "python",
   "pygments_lexer": "ipython3",
   "version": "3.8.18"
  }
 },
 "nbformat": 4,
 "nbformat_minor": 2
}
